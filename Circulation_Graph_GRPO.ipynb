{
  "nbformat": 4,
  "nbformat_minor": 0,
  "metadata": {
    "colab": {
      "provenance": []
    },
    "kernelspec": {
      "name": "python3",
      "display_name": "Python 3"
    },
    "language_info": {
      "name": "python"
    }
  },
  "cells": [
    {
      "cell_type": "code",
      "execution_count": null,
      "metadata": {
        "id": "wwUs0Q3pUxQc"
      },
      "outputs": [],
      "source": [
        "import torch\n",
        "import numpy as np\n",
        "import pandas as pd\n",
        "import matplotlib.pyplot as plt\n",
        "import seaborn as sns\n",
        "from itertools import chain\n",
        "import torch.nn as nn\n",
        "from torch.nn import TransformerEncoder, TransformerEncoderLayer\n",
        "import torch.optim as optim\n",
        "from torch.nn import functional as F"
      ]
    },
    {
      "cell_type": "code",
      "source": [
        "class Edge:\n",
        "    def __init__(self, src, dest, l, c, f):\n",
        "        self.src = src\n",
        "        self.dest = dest\n",
        "        self.l, self.c, self.f = l, c, f\n",
        "\n",
        "    def check_possibility(self, f):\n",
        "        if self.l > f or self.c < f:\n",
        "            return False\n",
        "        return True\n",
        "\n",
        "    def check_validity(self):\n",
        "        if self.src == self.dest:\n",
        "            return False\n",
        "        # Bound Check\n",
        "        if self.l > self.f or self.c < self.f:\n",
        "            return False\n",
        "        return True\n",
        "\n",
        "    def update_excesses(self):\n",
        "        self.src.excess -= self.f\n",
        "        self.dest.excess += self.f\n",
        "\n",
        "    def simple_data_representation(self):\n",
        "        return [self.l, self.c, self.f, self.src.excess, self.dest.excess]\n",
        "\n",
        "class Vertex:\n",
        "    def __init__(self, name):\n",
        "        self.name = name\n",
        "        self.excess = 0\n",
        "\n",
        "    def reset_excesses(self):\n",
        "        self.excess = 0\n",
        "\n",
        "class CircGraph:\n",
        "    def __init__(self, vertices, edges):\n",
        "        self.vertices = vertices\n",
        "        self.n = len(vertices)\n",
        "        self.edges = edges\n",
        "        self.abs_excesses = 0\n",
        "        self.f_abs_excesses = 0\n",
        "\n",
        "    def start_up(self, seed):\n",
        "      ''' Generate random valid starting points'''\n",
        "      np.random.seed(seed)\n",
        "      for e in self.edges:\n",
        "        e.f = np.random.uniform(e.l, e.c)\n",
        "      self.calculate_excesses()\n",
        "      self.f_abs_excesses = self.abs_excesses / self.n\n",
        "\n",
        "    def calculate_excesses(self):\n",
        "        self.abs_excesses = 0\n",
        "        for v in self.vertices:\n",
        "            v.reset_excesses()\n",
        "        for e in self.edges:\n",
        "            e.update_excesses()\n",
        "        for v in self.vertices:\n",
        "            self.abs_excesses += abs(v.excess)\n",
        "\n",
        "    def reward_function(self, adjustments):\n",
        "        self.modify_flows(adjustments)\n",
        "        self.calculate_excesses()\n",
        "        return self.f_abs_excesses - self.abs_excesses / self.n\n",
        "\n",
        "    def modify_flows(self, adjustments):\n",
        "        '''Update the flow values in the graph's edges.\n",
        "\n",
        "        Args:\n",
        "            new_flows: List of new flow values for each edge\n",
        "\n",
        "        Returns:\n",
        "            Boolean indicating if all flow adjustments were valid\n",
        "        '''\n",
        "        for i, e in enumerate(self.edges):\n",
        "            f_c = adjustments[i]\n",
        "            if not e.check_possibility(e.f + f_c):\n",
        "                return False\n",
        "        for i, e in enumerate(self.edges):\n",
        "            f_c = adjustments[i]\n",
        "            e.f += f_c\n",
        "        return True\n",
        "\n",
        "    def return_data(self):\n",
        "        data = []\n",
        "        for e in self.edges:\n",
        "            data = list(chain(data, e.simple_data_representation()))\n",
        "        return data"
      ],
      "metadata": {
        "id": "qohxQpNmU3ww"
      },
      "execution_count": null,
      "outputs": []
    },
    {
      "cell_type": "code",
      "source": [
        "vertices = [\n",
        "    Vertex('s'),\n",
        "    Vertex('a'),\n",
        "    Vertex('b'),\n",
        "    Vertex('t')\n",
        "]\n",
        "\n",
        "edges = [\n",
        "      Edge(vertices[0], vertices[1], 3, 7, 3),\n",
        "      Edge(vertices[0], vertices[2], 3, 4, 3),\n",
        "      Edge(vertices[1], vertices[2], 2, 5, 2),\n",
        "      Edge(vertices[1], vertices[3], 2, 3, 2),\n",
        "      Edge(vertices[2], vertices[3], 3, 6, 5),\n",
        "      Edge(vertices[3], vertices[0], 4, 4, 4),\n",
        "]"
      ],
      "metadata": {
        "id": "TSBZm9eGaev2"
      },
      "execution_count": null,
      "outputs": []
    },
    {
      "cell_type": "code",
      "source": [
        "class SimpleTransformer(nn.Module):\n",
        "    def __init__(self, input_dim, output_dim, seq_len, num_heads, hidden_dim, num_layers):\n",
        "        super(SimpleTransformer, self).__init__()\n",
        "        encoder_layer = TransformerEncoderLayer(d_model=input_dim, nhead=num_heads, dim_feedforward=hidden_dim)\n",
        "        self.transformer_encoder = TransformerEncoder(encoder_layer, num_layers=num_layers)\n",
        "        self.linear1 = nn.Linear(seq_len * input_dim, output_dim * 2)\n",
        "        self.linear2 = nn.Linear(seq_len * input_dim, output_dim)\n",
        "        self.flatten = nn.Flatten(-2, -1)\n",
        "        self.relu = nn.ReLU()\n",
        "\n",
        "    def forward(self, x):\n",
        "        output = self.transformer_encoder(x)\n",
        "        output = self.flatten(output) # (B, T * C)\n",
        "        output = self.linear2(output) # (B, T, O)\n",
        "        return output"
      ],
      "metadata": {
        "id": "mkP3g9JHbQUv"
      },
      "execution_count": null,
      "outputs": []
    },
    {
      "cell_type": "code",
      "source": [
        "seq_len = 6\n",
        "input_dim = 5\n",
        "output_dim = 3 ** seq_len\n",
        "num_heads = 1\n",
        "hidden_dim = 128\n",
        "num_layers = 2\n",
        "batch_size = 8\n",
        "loss_fn = F.binary_cross_entropy_with_logits"
      ],
      "metadata": {
        "id": "Be6NOXaycXJL"
      },
      "execution_count": null,
      "outputs": []
    },
    {
      "cell_type": "code",
      "source": [
        "def get_input(graph):\n",
        "    \"\"\"\n",
        "    Convert graph data into input format for the model.\n",
        "    Returns a layered (seq_len, input_dim) representation of edge and vertex data.\n",
        "    \"\"\"\n",
        "    return torch.tensor(graph.return_data(), dtype=torch.float32).view(1, -1, 5)\n",
        "\n",
        "def to_bit(tensor, digits=6):\n",
        "    \"\"\"\n",
        "    Convert a long tensor to a list of bits.\n",
        "    \"\"\"\n",
        "    val = tensor.long().item()\n",
        "    stra = np.base_repr(val, base=3).zfill(digits)[-digits:]\n",
        "    bit_list = [int(bit) - 1 for bit in stra]\n",
        "    return bit_list"
      ],
      "metadata": {
        "id": "WtXK5sAEjQ-H"
      },
      "execution_count": null,
      "outputs": []
    },
    {
      "cell_type": "code",
      "source": [
        "def create_episodes(nb_steps, batch_size, model):\n",
        "    \"\"\"\n",
        "    Generate episodes for training.\n",
        "\n",
        "    Args:\n",
        "        nb_steps: Number of steps per episode\n",
        "        batch_size: Number of parallel environments\n",
        "        model: The transformer model to use for action generation\n",
        "\n",
        "    Returns:\n",
        "        Histories of actions, inputs, and rewards\n",
        "    \"\"\"\n",
        "    finito = False\n",
        "    l_s = 0\n",
        "    action_history = torch.zeros(nb_steps, batch_size, dtype = torch.int64)\n",
        "    input_history = torch.zeros(nb_steps, batch_size, input_dim * seq_len)\n",
        "    reward_history = torch.zeros(nb_steps, batch_size)\n",
        "\n",
        "    graphs = [CircGraph(vertices, edges) for _ in range(batch_size)]\n",
        "    for i, graph in enumerate(graphs):\n",
        "        graph.start_up(seed=i)\n",
        "\n",
        "    for step in range(nb_steps):\n",
        "        for i, graph in enumerate(graphs):\n",
        "            # If we did something illegal we will suffer until the end.\n",
        "            if step != 0:\n",
        "                if reward_history[step-1, i] == -1 or reward_history[step-1, i] == -69:\n",
        "                    reward_history[step, i] = -69\n",
        "                    break\n",
        "\n",
        "            graph_data = get_input(graph)\n",
        "            input_history[step, i] = graph_data.view(-1)[:input_dim * seq_len]\n",
        "\n",
        "            with torch.no_grad():\n",
        "                log_probs = model(graph_data.view(1, -1, 5))\n",
        "                probs = F.softmax(log_probs, dim=1).view(-1)\n",
        "                state = torch.multinomial(probs, num_samples=1, replacement=True).view(-1)\n",
        "                predicted_adjustments = to_bit(state)\n",
        "                action_history[step, i] = state\n",
        "                reward = graph.reward_function(predicted_adjustments)\n",
        "                reward_history[step, i] = reward\n",
        "                # reward_history[step, i] = reward if reward != -1 else 0  # -1 means invalid action\n",
        "                if reward == -1:\n",
        "                    finito = True\n",
        "        if finito:\n",
        "            l_s = step\n",
        "            break\n",
        "    return action_history[:l_s+1], input_history[:l_s+1], reward_history[:l_s+1], l_s\n",
        "\n",
        "def train_grpo(model, optimizer, num_epochs, batch_size=8, nb_steps=10):\n",
        "    \"\"\"\n",
        "    Train the model using Group Reward Policy Optimization.\n",
        "\n",
        "    Args:\n",
        "        model: The transformer model\n",
        "        optimizer: The optimizer to use\n",
        "        num_epochs: Number of training epochs\n",
        "        batch_size: Number of parallel environments\n",
        "        nb_steps: Number of steps per episode\n",
        "    \"\"\"\n",
        "    lossi = []\n",
        "    for epoch in range(num_epochs):\n",
        "        action_history, input_history, reward_history, l_s = create_episodes(nb_steps, batch_size, model)\n",
        "\n",
        "        epsilon = 1e-7\n",
        "        mean_rewards = reward_history.mean(dim=1, keepdim=True)\n",
        "        std_rewards = reward_history.std(dim=1, keepdim=True) + epsilon\n",
        "        normalized_rewards = (reward_history - mean_rewards) / std_rewards\n",
        "\n",
        "        # Minus because we minimize\n",
        "        f_rewards = normalized_rewards[-1, :]\n",
        "        optimizer.zero_grad()\n",
        "        total_loss = 0\n",
        "        for t in range(l_s+1):\n",
        "            step_inputs = input_history[t]\n",
        "            log_probs = model(step_inputs.view(batch_size, seq_len, input_dim))\n",
        "            # Indexing the actions taken in each edge in each graph sample, multiplying by final reward\n",
        "            loss = -torch.mean(log_probs[:, action_history[t]] * f_rewards)\n",
        "            total_loss += loss\n",
        "\n",
        "        total_loss.backward()\n",
        "        optimizer.step()\n",
        "        lossi.append(total_loss.item())\n",
        "        if (epoch + 1) % 100 == 0:\n",
        "            print(f'Epoch [{epoch+1}/{num_epochs}], Loss: {lossi[-1]:.4f}')\n",
        "    return model, lossi"
      ],
      "metadata": {
        "id": "qNAQjL1Tl8DR"
      },
      "execution_count": null,
      "outputs": []
    },
    {
      "cell_type": "code",
      "source": [
        "class GRPOWarpper:\n",
        "    def __init__(self, nb_states, model, optim, nb_actions, nb_steps, gather_data_func):\n",
        "        self.model = model\n",
        "        self.optim = optim\n",
        "        self.nb_states = nb_states\n",
        "        self.nb_actions = nb_actions\n",
        "        self.nb_steps = nb_steps\n",
        "        self.gather_data_func = gather_data_func\n",
        "\n",
        "    def train_grpo(self, num_epochs, batch_size=8):\n",
        "        \"\"\"\n",
        "        Train the model using Group Relative ...\n",
        "\n",
        "        Args:\n",
        "            model: model\n",
        "            optimizer: The optimizer to use\n",
        "            num_epochs: Number of training epochs\n",
        "            batch_size: Number of parallel environments\n",
        "            nb_steps: Number of steps per episode\n",
        "            gather_data_func: Function to gather data,\n",
        "              receives :  nb_steps, batch_size, model\n",
        "              returns : action_history, input_history, reward_history, l_s (last step index)\n",
        "        \"\"\"\n",
        "        lossi = []\n",
        "        for epoch in range(num_epochs):\n",
        "            action_history, input_history, reward_history, l_s = self.gather_data_func(nb_steps, batch_size, model)\n",
        "\n",
        "            epsilon = 1e-7\n",
        "            mean_rewards = reward_history.mean(dim=1, keepdim=True)\n",
        "            std_rewards = reward_history.std(dim=1, keepdim=True) + epsilon\n",
        "            normalized_rewards = (reward_history - mean_rewards) / std_rewards\n",
        "\n",
        "            # Minus because we minimize\n",
        "            f_rewards = normalized_rewards[-1, :]\n",
        "            optimizer.zero_grad()\n",
        "            total_loss = 0\n",
        "            for t in range(l_s+1):\n",
        "                step_inputs = input_history[t]\n",
        "                log_probs = model(step_inputs.view(batch_size, seq_len, input_dim))\n",
        "                # Indexing the actions taken in each edge in each graph sample, multiplying by final reward\n",
        "                # We maximize rewards\n",
        "                loss = -torch.mean(log_probs[:, action_history[t]] * f_rewards)\n",
        "                total_loss += loss\n",
        "\n",
        "            total_loss.backward()\n",
        "            optimizer.step()\n",
        "            lossi.append(total_loss.item())\n",
        "            if (epoch + 1) % 100 == 0:\n",
        "                print(f'Epoch [{epoch+1}/{num_epochs}], Loss: {lossi[-1]:.4f}')\n",
        "\n",
        "        plt.plot(lossi)\n",
        "        return model, lossi"
      ],
      "metadata": {
        "id": "sejN6aJYYIGU"
      },
      "execution_count": null,
      "outputs": []
    },
    {
      "cell_type": "code",
      "source": [
        "num_epochs = 1000\n",
        "batch_size = 64\n",
        "nb_steps = 25\n",
        "\n",
        "model = SimpleTransformer(input_dim, output_dim, seq_len, num_heads, hidden_dim, num_layers)\n",
        "# Initialize the optimizer\n",
        "optimizer = optim.AdamW(model.parameters())\n",
        "\n",
        "# Train the model using GRPO\n",
        "model, lossi = train_grpo(model, optimizer, num_epochs, batch_size, nb_steps)"
      ],
      "metadata": {
        "colab": {
          "base_uri": "https://localhost:8080/"
        },
        "id": "wLQDShxisI2P",
        "outputId": "6484ae41-47a5-4292-dc68-26bd893f3494"
      },
      "execution_count": null,
      "outputs": [
        {
          "output_type": "stream",
          "name": "stderr",
          "text": [
            "/usr/local/lib/python3.11/dist-packages/torch/nn/modules/transformer.py:379: UserWarning: enable_nested_tensor is True, but self.use_nested_tensor is False because encoder_layer.self_attn.batch_first was not True(use batch_first for better inference performance)\n",
            "  warnings.warn(\n"
          ]
        },
        {
          "output_type": "stream",
          "name": "stdout",
          "text": [
            "Epoch [100/1000], Loss: 0.0523\n",
            "Epoch [200/1000], Loss: -0.0566\n",
            "Epoch [300/1000], Loss: -0.0868\n",
            "Epoch [400/1000], Loss: 0.1152\n",
            "Epoch [500/1000], Loss: -0.1890\n",
            "Epoch [600/1000], Loss: 0.0201\n",
            "Epoch [700/1000], Loss: 0.3487\n",
            "Epoch [800/1000], Loss: 0.0994\n",
            "Epoch [900/1000], Loss: 0.1092\n",
            "Epoch [1000/1000], Loss: 0.5955\n"
          ]
        }
      ]
    },
    {
      "cell_type": "code",
      "source": [
        "plt.plot(lossi)"
      ],
      "metadata": {
        "colab": {
          "base_uri": "https://localhost:8080/",
          "height": 466
        },
        "id": "YuL3BqXoMYJK",
        "outputId": "04ea6cdc-bb82-40cc-a43e-21dffa1f23f2"
      },
      "execution_count": null,
      "outputs": [
        {
          "output_type": "execute_result",
          "data": {
            "text/plain": [
              "[<matplotlib.lines.Line2D at 0x7fbe580c5c10>]"
            ]
          },
          "metadata": {},
          "execution_count": 98
        },
        {
          "output_type": "display_data",
          "data": {
            "text/plain": [
              "<Figure size 640x480 with 1 Axes>"
            ],
            "image/png": "[encoded data removed]"
          },
          "metadata": {}
        }
      ]
    },
    {
      "cell_type": "code",
      "source": [
        "size = 10\n",
        "f_size = 10.0\n",
        "reward = 0\n",
        "\n",
        "for i in range(size):\n",
        "    graph = CircGraph(vertices, edges)\n",
        "    graph.start_up(seed=i)\n",
        "    reward = 0\n",
        "    cnt = 0\n",
        "    while cnt < 25:\n",
        "        cnt += 1\n",
        "        log_probs = model(get_input(graph))\n",
        "        probs = F.softmax(log_probs, dim=1).view(-1)\n",
        "        state = torch.multinomial(probs, num_samples=1, replacement=True).view(-1)\n",
        "        predicted_adjustments = to_bit(state)\n",
        "        graph.reward_function(predicted_adjustments)\n",
        "    reward += graph.f_abs_excesses - graph.abs_excesses / graph.n\n",
        "\n",
        "print(f'avg: {reward / f_size}')"
      ],
      "metadata": {
        "colab": {
          "base_uri": "https://localhost:8080/"
        },
        "id": "fpAZ1fvwtPK0",
        "outputId": "f5aee748-d895-4aff-8662-1cd987a3b5bd"
      },
      "execution_count": null,
      "outputs": [
        {
          "output_type": "stream",
          "name": "stdout",
          "text": [
            "avg: 0.018270616086321124\n"
          ]
        }
      ]
    },
    {
      "cell_type": "code",
      "source": [],
      "metadata": {
        "id": "z1t6xjhjmRhw"
      },
      "execution_count": null,
      "outputs": []
    }
  ]
}